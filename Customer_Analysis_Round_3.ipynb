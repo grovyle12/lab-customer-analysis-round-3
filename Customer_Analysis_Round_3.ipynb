{
 "cells": [
  {
   "cell_type": "code",
   "execution_count": 262,
   "id": "af45715d-82b4-4361-8a59-8982f2296fe3",
   "metadata": {},
   "outputs": [],
   "source": [
    "import pandas as pd\n",
    "import numpy as np\n",
    "import seaborn as sns\n",
    "import scipy.stats as stats\n",
    "import matplotlib.pyplot as plt\n",
    "import matplotlib.patches as mpatches\n",
    "%matplotlib inline"
   ]
  },
  {
   "cell_type": "code",
   "execution_count": null,
   "id": "0449516a-0c04-434d-9fc3-5f96657ff6a8",
   "metadata": {},
   "outputs": [],
   "source": [
    "data = pd.read_csv('C:/Users/mauri/Documents/Important IH Files/lab-customer-analysis-round-3/files_for_lab/csv_files/marketing_customer_analysis.csv')"
   ]
  },
  {
   "cell_type": "markdown",
   "id": "3a8989eb-73a0-4742-b48b-2ec947fc7532",
   "metadata": {
    "tags": []
   },
   "source": [
    "# Show DataFrame info.\n"
   ]
  },
  {
   "cell_type": "code",
   "execution_count": 74,
   "id": "49a2ade4-10bd-4d67-b4a7-99e13ab0cad4",
   "metadata": {},
   "outputs": [
    {
     "name": "stdout",
     "output_type": "stream",
     "text": [
      "Customer                          object\n",
      "State                             object\n",
      "Customer Lifetime Value          float64\n",
      "Response                          object\n",
      "Coverage                          object\n",
      "Education                         object\n",
      "Effective To Date                 object\n",
      "EmploymentStatus                  object\n",
      "Gender                            object\n",
      "Income                             int64\n",
      "Location Code                     object\n",
      "Marital Status                    object\n",
      "Monthly Premium Auto               int64\n",
      "Months Since Last Claim            int64\n",
      "Months Since Policy Inception      int64\n",
      "Number of Open Complaints          int64\n",
      "Number of Policies                 int64\n",
      "Policy Type                       object\n",
      "Policy                            object\n",
      "Renew Offer Type                  object\n",
      "Sales Channel                     object\n",
      "Total Claim Amount               float64\n",
      "Vehicle Class                     object\n",
      "Vehicle Size                      object\n",
      "dtype: object\n",
      "<class 'pandas.core.frame.DataFrame'>\n",
      "RangeIndex: 9134 entries, 0 to 9133\n",
      "Data columns (total 24 columns):\n",
      " #   Column                         Non-Null Count  Dtype  \n",
      "---  ------                         --------------  -----  \n",
      " 0   Customer                       9134 non-null   object \n",
      " 1   State                          9134 non-null   object \n",
      " 2   Customer Lifetime Value        9134 non-null   float64\n",
      " 3   Response                       9134 non-null   object \n",
      " 4   Coverage                       9134 non-null   object \n",
      " 5   Education                      9134 non-null   object \n",
      " 6   Effective To Date              9134 non-null   object \n",
      " 7   EmploymentStatus               9134 non-null   object \n",
      " 8   Gender                         9134 non-null   object \n",
      " 9   Income                         9134 non-null   int64  \n",
      " 10  Location Code                  9134 non-null   object \n",
      " 11  Marital Status                 9134 non-null   object \n",
      " 12  Monthly Premium Auto           9134 non-null   int64  \n",
      " 13  Months Since Last Claim        9134 non-null   int64  \n",
      " 14  Months Since Policy Inception  9134 non-null   int64  \n",
      " 15  Number of Open Complaints      9134 non-null   int64  \n",
      " 16  Number of Policies             9134 non-null   int64  \n",
      " 17  Policy Type                    9134 non-null   object \n",
      " 18  Policy                         9134 non-null   object \n",
      " 19  Renew Offer Type               9134 non-null   object \n",
      " 20  Sales Channel                  9134 non-null   object \n",
      " 21  Total Claim Amount             9134 non-null   float64\n",
      " 22  Vehicle Class                  9134 non-null   object \n",
      " 23  Vehicle Size                   9134 non-null   object \n",
      "dtypes: float64(2), int64(6), object(16)\n",
      "memory usage: 1.7+ MB\n"
     ]
    }
   ],
   "source": [
    "print(data.dtypes)\n",
    "data.info() #info lol"
   ]
  },
  {
   "cell_type": "markdown",
   "id": "47296439-de65-4e5d-b757-56c2aac3a2ed",
   "metadata": {
    "tags": []
   },
   "source": [
    "# Describe DataFrame.\n"
   ]
  },
  {
   "cell_type": "code",
   "execution_count": null,
   "id": "4958505b-98e7-4e62-a1ec-a599448fba9a",
   "metadata": {},
   "outputs": [],
   "source": [
    "float_64_List = list(data.select_dtypes('float64').head(0))\n",
    "float_64_List"
   ]
  },
  {
   "cell_type": "code",
   "execution_count": 70,
   "id": "d7964eee-41fa-4fa5-884d-0f0496ac7f1a",
   "metadata": {},
   "outputs": [
    {
     "name": "stdout",
     "output_type": "stream",
     "text": [
      "['Customer', 'State', 'Response', 'Coverage', 'Education', 'Effective To Date', 'EmploymentStatus', 'Gender', 'Location Code', 'Marital Status', 'Policy Type', 'Policy', 'Renew Offer Type', 'Sales Channel', 'Vehicle Class', 'Vehicle Size']\n"
     ]
    }
   ],
   "source": [
    "obj_List = list(data.select_dtypes('object').head(0))\n",
    "print(obj_List)"
   ]
  },
  {
   "cell_type": "code",
   "execution_count": null,
   "id": "46c5b83b-3ea5-49d8-a31e-52663a32a544",
   "metadata": {},
   "outputs": [],
   "source": [
    "integer_list = list(data.select_dtypes('int64').head(0))\n",
    "print(integer_list)"
   ]
  },
  {
   "cell_type": "markdown",
   "id": "6176dde4-dfef-4fc9-a524-3b535bc4e8d9",
   "metadata": {},
   "source": [
    "# Show a plot of the total number of responses.\n"
   ]
  },
  {
   "cell_type": "code",
   "execution_count": 46,
   "id": "1aac6766-9572-4e2f-9bb4-89501d48d470",
   "metadata": {},
   "outputs": [
    {
     "data": {
      "image/png": "[encoded data removed]",
      "text/plain": [
       "<Figure size 432x288 with 1 Axes>"
      ]
     },
     "metadata": {
      "needs_background": "light"
     },
     "output_type": "display_data"
    }
   ],
   "source": [
    "data['Response'].hist(bins=2 )\n",
    "plt.show()"
   ]
  },
  {
   "cell_type": "code",
   "execution_count": 65,
   "id": "211ec581-2fbf-48ea-ab33-03ca7637e881",
   "metadata": {},
   "outputs": [
    {
     "data": {
      "text/html": [
       "<div>\n",
       "<style scoped>\n",
       "    .dataframe tbody tr th:only-of-type {\n",
       "        vertical-align: middle;\n",
       "    }\n",
       "\n",
       "    .dataframe tbody tr th {\n",
       "        vertical-align: top;\n",
       "    }\n",
       "\n",
       "    .dataframe thead th {\n",
       "        text-align: right;\n",
       "    }\n",
       "</style>\n",
       "<table border=\"1\" class=\"dataframe\">\n",
       "  <thead>\n",
       "    <tr style=\"text-align: right;\">\n",
       "      <th></th>\n",
       "      <th>Response</th>\n",
       "      <th>Answers</th>\n",
       "    </tr>\n",
       "  </thead>\n",
       "  <tbody>\n",
       "    <tr>\n",
       "      <th>0</th>\n",
       "      <td>No</td>\n",
       "      <td>7826</td>\n",
       "    </tr>\n",
       "    <tr>\n",
       "      <th>1</th>\n",
       "      <td>Yes</td>\n",
       "      <td>1308</td>\n",
       "    </tr>\n",
       "  </tbody>\n",
       "</table>\n",
       "</div>"
      ],
      "text/plain": [
       "  Response  Answers\n",
       "0       No     7826\n",
       "1      Yes     1308"
      ]
     },
     "execution_count": 65,
     "metadata": {},
     "output_type": "execute_result"
    }
   ],
   "source": [
    "x_response = pd.DataFrame(data['Response'])\n",
    "total_response = pd.DataFrame(x_response.value_counts())\n",
    "total_response.reset_index(inplace = True)\n",
    "total_response.columns = ['Response','Answers']\n",
    "total_response"
   ]
  },
  {
   "cell_type": "code",
   "execution_count": 88,
   "id": "758777ba-2367-4a2b-a0cc-ec37888a4df4",
   "metadata": {},
   "outputs": [
    {
     "data": {
      "image/png": "[encoded data removed]",
      "text/plain": [
       "<Figure size 432x288 with 1 Axes>"
      ]
     },
     "metadata": {
      "needs_background": "light"
     },
     "output_type": "display_data"
    }
   ],
   "source": [
    "# MEEEEE\n",
    "# My Solition\n",
    "x = total_response['Response']\n",
    "height = total_response['Answers']\n",
    "plt.bar( x,height ,align = 'center', color = 'green')\n",
    "plt.show()"
   ]
  },
  {
   "cell_type": "code",
   "execution_count": 80,
   "id": "c0d9b0b5-a718-491e-b5b8-90eef81a273b",
   "metadata": {},
   "outputs": [
    {
     "data": {
      "text/html": [
       "<div>\n",
       "<style scoped>\n",
       "    .dataframe tbody tr th:only-of-type {\n",
       "        vertical-align: middle;\n",
       "    }\n",
       "\n",
       "    .dataframe tbody tr th {\n",
       "        vertical-align: top;\n",
       "    }\n",
       "\n",
       "    .dataframe thead th {\n",
       "        text-align: right;\n",
       "    }\n",
       "</style>\n",
       "<table border=\"1\" class=\"dataframe\">\n",
       "  <thead>\n",
       "    <tr style=\"text-align: right;\">\n",
       "      <th></th>\n",
       "      <th>index</th>\n",
       "      <th>Response</th>\n",
       "    </tr>\n",
       "  </thead>\n",
       "  <tbody>\n",
       "    <tr>\n",
       "      <th>0</th>\n",
       "      <td>No</td>\n",
       "      <td>7826</td>\n",
       "    </tr>\n",
       "    <tr>\n",
       "      <th>1</th>\n",
       "      <td>Yes</td>\n",
       "      <td>1308</td>\n",
       "    </tr>\n",
       "  </tbody>\n",
       "</table>\n",
       "</div>"
      ],
      "text/plain": [
       "  index  Response\n",
       "0    No      7826\n",
       "1   Yes      1308"
      ]
     },
     "execution_count": 80,
     "metadata": {},
     "output_type": "execute_result"
    }
   ],
   "source": [
    "#Hima\n",
    "response_df=pd.DataFrame(data['Response'].value_counts()).reset_index()\n",
    "response_df"
   ]
  },
  {
   "cell_type": "code",
   "execution_count": 81,
   "id": "d839e777-167e-4a27-b4b3-55bfaf685303",
   "metadata": {},
   "outputs": [
    {
     "data": {
      "text/plain": [
       "<BarContainer object of 2 artists>"
      ]
     },
     "execution_count": 81,
     "metadata": {},
     "output_type": "execute_result"
    },
    {
     "data": {
      "image/png": "[encoded data removed]",
      "text/plain": [
       "<Figure size 432x288 with 1 Axes>"
      ]
     },
     "metadata": {
      "needs_background": "light"
     },
     "output_type": "display_data"
    }
   ],
   "source": [
    "plt.bar(x = response_df['index'], height = response_df['Response'])"
   ]
  },
  {
   "cell_type": "code",
   "execution_count": 82,
   "id": "21fe4045-aec6-4c0d-a4c9-3a27171c4b83",
   "metadata": {},
   "outputs": [
    {
     "data": {
      "text/plain": [
       "<AxesSubplot:xlabel='Response', ylabel='count'>"
      ]
     },
     "execution_count": 82,
     "metadata": {},
     "output_type": "execute_result"
    },
    {
     "data": {
      "image/png": "[encoded data removed]",
      "text/plain": [
       "<Figure size 432x288 with 1 Axes>"
      ]
     },
     "metadata": {
      "needs_background": "light"
     },
     "output_type": "display_data"
    }
   ],
   "source": [
    "#More hima\n",
    "sns.countplot(x='Response',data=data)"
   ]
  },
  {
   "cell_type": "code",
   "execution_count": null,
   "id": "97b9c509-f87c-4d7d-9df0-67d82483b995",
   "metadata": {},
   "outputs": [],
   "source": []
  },
  {
   "cell_type": "markdown",
   "id": "8e556cf1-36b6-419b-b9cf-f5b7375df41d",
   "metadata": {},
   "source": [
    "# Show a plot of the response rate by the sales channel.\n"
   ]
  },
  {
   "cell_type": "code",
   "execution_count": 165,
   "id": "9ef69019-0543-4214-9cb4-7bba03da491f",
   "metadata": {},
   "outputs": [
    {
     "data": {
      "image/png": "[encoded data removed]",
      "text/plain": [
       "<Figure size 432x288 with 1 Axes>"
      ]
     },
     "metadata": {
      "needs_background": "light"
     },
     "output_type": "display_data"
    }
   ],
   "source": [
    "#Notes\n",
    "x = [\"CSE\",\"ISE\",\"EEE\",\"ECE\",\"MECH\"]\n",
    "h = [100,50,30,120,150]\n",
    "c = ['red','yellow','blue','green', 'maroon']\n",
    "plt.bar(x,h,color= c, linewidth =3, edgecolor = 'black')\n",
    "plt.xlabel('Courses')\n",
    "plt.ylabel('Students Enrolled')\n",
    "plt.title('Students enrolled in different courses, 2020!')\n",
    "plt.show()"
   ]
  },
  {
   "cell_type": "code",
   "execution_count": null,
   "id": "2165afb0-f508-4628-94ec-0a44e4a7d236",
   "metadata": {},
   "outputs": [],
   "source": []
  },
  {
   "cell_type": "code",
   "execution_count": 120,
   "id": "48a39444-7611-4fea-842f-bd0cdddcb8e9",
   "metadata": {},
   "outputs": [
    {
     "data": {
      "image/png": "[encoded data removed]",
      "text/plain": [
       "<Figure size 432x288 with 1 Axes>"
      ]
     },
     "metadata": {
      "needs_background": "light"
     },
     "output_type": "display_data"
    }
   ],
   "source": [
    "#Notes\n",
    "import matplotlib.pyplot as plt\n",
    "fig = plt.figure()\n",
    "ax = fig.add_axes([0,0,1,1])\n",
    "\n",
    "langs = ['C', 'C++', 'Java', 'Python', 'PHP']\n",
    "students = [23,17,35,29,12]\n",
    "ax.bar(langs,students)\n",
    "plt.show()"
   ]
  },
  {
   "cell_type": "code",
   "execution_count": 131,
   "id": "ea6cb951-55d0-43b5-aa9a-13ac709cf246",
   "metadata": {},
   "outputs": [
    {
     "data": {
      "image/png": "[encoded data removed]",
      "text/plain": [
       "<Figure size 432x288 with 1 Axes>"
      ]
     },
     "metadata": {
      "needs_background": "light"
     },
     "output_type": "display_data"
    }
   ],
   "source": [
    "#Notes\n",
    "labels = ['G1', 'G2', 'G3', 'G4', 'G5']\n",
    "men_means = [20, 34, 30, 35, 27]\n",
    "women_means = [25, 32, 34, 20, 25]\n",
    "\n",
    "x = np.arange(len(labels))  # the label locations\n",
    "width = 0.35  # the width of the bars\n",
    "\n",
    "fig, ax = plt.subplots()\n",
    "rects1 = ax.bar(x - width/2, men_means, width, label='Men')\n",
    "rects2 = ax.bar(x + width/2, women_means, width, label='Women')\n",
    "\n",
    "# Add some text for labels, title and custom x-axis tick labels, etc.\n",
    "ax.set_ylabel('Scores')\n",
    "ax.set_title('Scores by group and gender')\n",
    "ax.set_xticks(x, labels)\n",
    "ax.legend()\n",
    "\n",
    "ax.bar_label(rects1, padding=.5)\n",
    "ax.bar_label(rects2, padding=.5)\n",
    "\n",
    "fig.tight_layout()\n",
    "\n",
    "plt.show()"
   ]
  },
  {
   "cell_type": "code",
   "execution_count": 122,
   "id": "63f0c868-6401-454e-a2e5-49b95ae9f44f",
   "metadata": {},
   "outputs": [
    {
     "data": {
      "text/plain": [
       "array([0, 1, 2, 3, 4])"
      ]
     },
     "execution_count": 122,
     "metadata": {},
     "output_type": "execute_result"
    }
   ],
   "source": [
    "x"
   ]
  },
  {
   "cell_type": "code",
   "execution_count": null,
   "id": "ac284324-ef4f-4cf9-bbe1-d94964bd0956",
   "metadata": {},
   "outputs": [],
   "source": []
  },
  {
   "cell_type": "code",
   "execution_count": null,
   "id": "379ee5ad-2591-479a-9789-9371f287e056",
   "metadata": {},
   "outputs": [],
   "source": []
  },
  {
   "cell_type": "code",
   "execution_count": null,
   "id": "c0d5358f-7fc3-4169-8ade-ce88303c2eff",
   "metadata": {},
   "outputs": [],
   "source": []
  },
  {
   "cell_type": "markdown",
   "id": "7d276d17-edcf-48ce-8e0a-8f6c4eaee94c",
   "metadata": {},
   "source": [
    "# Show a plot of the response rate by the sales channel.\n"
   ]
  },
  {
   "cell_type": "code",
   "execution_count": 232,
   "id": "c9b2a43a-0cbb-42bb-9d88-9d48bb77b1f4",
   "metadata": {},
   "outputs": [
    {
     "data": {
      "text/html": [
       "<div>\n",
       "<style scoped>\n",
       "    .dataframe tbody tr th:only-of-type {\n",
       "        vertical-align: middle;\n",
       "    }\n",
       "\n",
       "    .dataframe tbody tr th {\n",
       "        vertical-align: top;\n",
       "    }\n",
       "\n",
       "    .dataframe thead th {\n",
       "        text-align: right;\n",
       "    }\n",
       "</style>\n",
       "<table border=\"1\" class=\"dataframe\">\n",
       "  <thead>\n",
       "    <tr style=\"text-align: right;\">\n",
       "      <th></th>\n",
       "      <th>Sales Channel</th>\n",
       "      <th>Response</th>\n",
       "      <th>Count</th>\n",
       "    </tr>\n",
       "  </thead>\n",
       "  <tbody>\n",
       "    <tr>\n",
       "      <th>0</th>\n",
       "      <td>Agent</td>\n",
       "      <td>No</td>\n",
       "      <td>2811</td>\n",
       "    </tr>\n",
       "    <tr>\n",
       "      <th>2</th>\n",
       "      <td>Branch</td>\n",
       "      <td>No</td>\n",
       "      <td>2273</td>\n",
       "    </tr>\n",
       "    <tr>\n",
       "      <th>4</th>\n",
       "      <td>Call Center</td>\n",
       "      <td>No</td>\n",
       "      <td>1573</td>\n",
       "    </tr>\n",
       "    <tr>\n",
       "      <th>6</th>\n",
       "      <td>Web</td>\n",
       "      <td>No</td>\n",
       "      <td>1169</td>\n",
       "    </tr>\n",
       "    <tr>\n",
       "      <th>1</th>\n",
       "      <td>Agent</td>\n",
       "      <td>Yes</td>\n",
       "      <td>666</td>\n",
       "    </tr>\n",
       "    <tr>\n",
       "      <th>3</th>\n",
       "      <td>Branch</td>\n",
       "      <td>Yes</td>\n",
       "      <td>294</td>\n",
       "    </tr>\n",
       "    <tr>\n",
       "      <th>5</th>\n",
       "      <td>Call Center</td>\n",
       "      <td>Yes</td>\n",
       "      <td>192</td>\n",
       "    </tr>\n",
       "    <tr>\n",
       "      <th>7</th>\n",
       "      <td>Web</td>\n",
       "      <td>Yes</td>\n",
       "      <td>156</td>\n",
       "    </tr>\n",
       "  </tbody>\n",
       "</table>\n",
       "</div>"
      ],
      "text/plain": [
       "  Sales Channel Response  Count\n",
       "0         Agent       No   2811\n",
       "2        Branch       No   2273\n",
       "4   Call Center       No   1573\n",
       "6           Web       No   1169\n",
       "1         Agent      Yes    666\n",
       "3        Branch      Yes    294\n",
       "5   Call Center      Yes    192\n",
       "7           Web      Yes    156"
      ]
     },
     "execution_count": 232,
     "metadata": {},
     "output_type": "execute_result"
    }
   ],
   "source": [
    "#Sorry for the mess \n",
    "re_sales = pd.DataFrame(data[['Sales Channel','Response',]].value_counts()).reset_index()\n",
    "re_sales.sort_values(by = 'Sales Channel', inplace = True)\n",
    "re_sales.reset_index(inplace=True, drop = True)\n",
    "# re_sales.rename({'0':'Count'}, inplace=True)\n",
    "re_sales.rename({0:'Count'}, axis=1, inplace=True)\n",
    "re_sales"
   ]
  },
  {
   "cell_type": "code",
   "execution_count": 219,
   "id": "1c212747-cf4c-4401-814e-c739e5c65ddf",
   "metadata": {},
   "outputs": [],
   "source": [
    "tick_label_names = ['Agent\\n(No)',\n",
    " 'Agent\\n(Yes)',\n",
    " 'Branch\\n(No)',\n",
    " 'Branch\\n(Yes)',\n",
    " 'CC\\n(No)',\n",
    " 'CC\\n(Yes)',\n",
    " 'Web\\n(No)',\n",
    " 'Web\\n(Yes)']"
   ]
  },
  {
   "cell_type": "code",
   "execution_count": 233,
   "id": "3ba2ae3d-6f2c-483d-9933-ecd04711af8e",
   "metadata": {},
   "outputs": [
    {
     "data": {
      "text/html": [
       "<div>\n",
       "<style scoped>\n",
       "    .dataframe tbody tr th:only-of-type {\n",
       "        vertical-align: middle;\n",
       "    }\n",
       "\n",
       "    .dataframe tbody tr th {\n",
       "        vertical-align: top;\n",
       "    }\n",
       "\n",
       "    .dataframe thead th {\n",
       "        text-align: right;\n",
       "    }\n",
       "</style>\n",
       "<table border=\"1\" class=\"dataframe\">\n",
       "  <thead>\n",
       "    <tr style=\"text-align: right;\">\n",
       "      <th></th>\n",
       "      <th>Sales Channel</th>\n",
       "      <th>Response</th>\n",
       "      <th>Count</th>\n",
       "    </tr>\n",
       "  </thead>\n",
       "  <tbody>\n",
       "    <tr>\n",
       "      <th>0</th>\n",
       "      <td>Agent</td>\n",
       "      <td>No</td>\n",
       "      <td>2811</td>\n",
       "    </tr>\n",
       "    <tr>\n",
       "      <th>1</th>\n",
       "      <td>Agent</td>\n",
       "      <td>Yes</td>\n",
       "      <td>666</td>\n",
       "    </tr>\n",
       "    <tr>\n",
       "      <th>2</th>\n",
       "      <td>Branch</td>\n",
       "      <td>No</td>\n",
       "      <td>2273</td>\n",
       "    </tr>\n",
       "    <tr>\n",
       "      <th>3</th>\n",
       "      <td>Branch</td>\n",
       "      <td>Yes</td>\n",
       "      <td>294</td>\n",
       "    </tr>\n",
       "    <tr>\n",
       "      <th>4</th>\n",
       "      <td>Call Center</td>\n",
       "      <td>No</td>\n",
       "      <td>1573</td>\n",
       "    </tr>\n",
       "    <tr>\n",
       "      <th>5</th>\n",
       "      <td>Call Center</td>\n",
       "      <td>Yes</td>\n",
       "      <td>192</td>\n",
       "    </tr>\n",
       "    <tr>\n",
       "      <th>6</th>\n",
       "      <td>Web</td>\n",
       "      <td>No</td>\n",
       "      <td>1169</td>\n",
       "    </tr>\n",
       "    <tr>\n",
       "      <th>7</th>\n",
       "      <td>Web</td>\n",
       "      <td>Yes</td>\n",
       "      <td>156</td>\n",
       "    </tr>\n",
       "  </tbody>\n",
       "</table>\n",
       "</div>"
      ],
      "text/plain": [
       "  Sales Channel Response  Count\n",
       "0         Agent       No   2811\n",
       "1         Agent      Yes    666\n",
       "2        Branch       No   2273\n",
       "3        Branch      Yes    294\n",
       "4   Call Center       No   1573\n",
       "5   Call Center      Yes    192\n",
       "6           Web       No   1169\n",
       "7           Web      Yes    156"
      ]
     },
     "execution_count": 233,
     "metadata": {},
     "output_type": "execute_result"
    }
   ],
   "source": [
    "re_sales"
   ]
  },
  {
   "cell_type": "code",
   "execution_count": 230,
   "id": "5542b8db-5b7f-4f73-8f9b-1fc5b044e14b",
   "metadata": {},
   "outputs": [
    {
     "data": {
      "text/plain": [
       "['No', 'Yes', 'No', 'Yes', 'No', 'Yes', 'No', 'Yes']"
      ]
     },
     "execution_count": 230,
     "metadata": {},
     "output_type": "execute_result"
    }
   ],
   "source": [
    "resp_y = []\n",
    "for i in resp:\n",
    "    print("
   ]
  },
  {
   "cell_type": "code",
   "execution_count": 275,
   "id": "7467cd55-30e3-431e-8eaf-13dffbe0dc7f",
   "metadata": {},
   "outputs": [
    {
     "data": {
      "image/png": "[encoded data removed]",
      "text/plain": [
       "<Figure size 432x288 with 1 Axes>"
      ]
     },
     "metadata": {
      "needs_background": "light"
     },
     "output_type": "display_data"
    }
   ],
   "source": [
    "w = 1\n",
    "tick_label_names #= list(re_sales['Sales Channel'])\n",
    "resp = list(re_sales['Response'])\n",
    "count = list(re_sales['Count'])\n",
    "fig = plt.figure()\n",
    "ax = fig.add_subplot() \n",
    "red_patch = mpatches.Patch(color = 'red', label = 'No')\n",
    "blue_patch = mpatches.Patch(color = 'blue', label = 'Yes')\n",
    "\n",
    "bar1 = np.arange(len(tick_label_names))*2\n",
    "\n",
    "red_blue = ['red','blue','red','blue','red','blue','red','blue']\n",
    "legend_label = ['Yes','No']\n",
    "plt.bar(bar1,count,w,  color = red_blue  )\n",
    "# plt.bar(bar1,count,w,label = legend_label, color = red_blue  )\n",
    "\n",
    "plt.xlabel('\\nPoint of Contact')\n",
    "plt.ylabel('Yes and No')\n",
    "plt.title('LMAO')\n",
    "plt.xticks(bar1,tick_label_names)\n",
    "ax.legend(handles = [red_patch,blue_patch])\n",
    "plt.show()"
   ]
  },
  {
   "cell_type": "code",
   "execution_count": 85,
   "id": "94fd72cc-8c69-499e-8b79-bc1c1f613702",
   "metadata": {},
   "outputs": [
    {
     "data": {
      "text/plain": [
       "<AxesSubplot:xlabel='Sales Channel', ylabel='count'>"
      ]
     },
     "execution_count": 85,
     "metadata": {},
     "output_type": "execute_result"
    },
    {
     "data": {
      "image/png": "[encoded data removed]",
      "text/plain": [
       "<Figure size 432x288 with 1 Axes>"
      ]
     },
     "metadata": {
      "needs_background": "light"
     },
     "output_type": "display_data"
    }
   ],
   "source": [
    "sns.countplot(x = 'Sales Channel', data=data  )"
   ]
  },
  {
   "cell_type": "code",
   "execution_count": null,
   "id": "03c6320e-b12f-44db-9c56-060331ff6f76",
   "metadata": {},
   "outputs": [],
   "source": []
  },
  {
   "cell_type": "code",
   "execution_count": null,
   "id": "e3f3f422-c01b-489b-941f-c72df82cf2f0",
   "metadata": {},
   "outputs": [],
   "source": []
  },
  {
   "cell_type": "code",
   "execution_count": null,
   "id": "1306491d-3857-4e4f-abf4-bac4368a9ee6",
   "metadata": {},
   "outputs": [],
   "source": [
    "fig, ax = plt.subplots()\n",
    "ax.plot(x,y, linewidth=0,marker = 's', label = 'Response Rate and Sales Channel')\n",
    "ax.set_xlabel('x')\n",
    "ax.set_xlabel('y')\n",
    "ax.legend(facecolor= 'white')\n",
    "plt.show()"
   ]
  },
  {
   "cell_type": "code",
   "execution_count": null,
   "id": "69d4e526-8f54-4d1d-aa99-51ce0b99d99f",
   "metadata": {},
   "outputs": [],
   "source": [
    "x=list(data['Sales Channel'])\n",
    "x"
   ]
  },
  {
   "cell_type": "code",
   "execution_count": null,
   "id": "5c81f994-075d-4d80-b477-2d2d6d29d321",
   "metadata": {},
   "outputs": [],
   "source": [
    "y=list(data['Response'])"
   ]
  },
  {
   "cell_type": "markdown",
   "id": "db7e2153-67b9-460c-9c42-e34f18db1323",
   "metadata": {},
   "source": [
    "# Show a plot of the response rate by the total claim amount.\n"
   ]
  },
  {
   "cell_type": "code",
   "execution_count": 86,
   "id": "23860aa5-58b2-48d6-9784-324509583135",
   "metadata": {},
   "outputs": [
    {
     "data": {
      "text/plain": [
       "<AxesSubplot:xlabel='Response', ylabel='Total Claim Amount'>"
      ]
     },
     "execution_count": 86,
     "metadata": {},
     "output_type": "execute_result"
    },
    {
     "data": {
      "image/png": "[encoded data removed]",
      "text/plain": [
       "<Figure size 432x288 with 1 Axes>"
      ]
     },
     "metadata": {
      "needs_background": "light"
     },
     "output_type": "display_data"
    }
   ],
   "source": [
    "sns.boxplot(x = 'Response', y= 'Total Claim Amount', data=data) #numerical and categorical data, its best to use a box plot"
   ]
  },
  {
   "cell_type": "markdown",
   "id": "35437e55-de7d-4de8-955e-65c4e4b80e1f",
   "metadata": {},
   "source": [
    "# Show a plot of the response rate by income.\n"
   ]
  },
  {
   "cell_type": "code",
   "execution_count": 87,
   "id": "a345179d-2902-4806-ad84-598e374c1fd1",
   "metadata": {},
   "outputs": [
    {
     "data": {
      "text/plain": [
       "<AxesSubplot:xlabel='Response', ylabel='Income'>"
      ]
     },
     "execution_count": 87,
     "metadata": {},
     "output_type": "execute_result"
    },
    {
     "data": {
      "image/png": "[encoded data removed]",
      "text/plain": [
       "<Figure size 432x288 with 1 Axes>"
      ]
     },
     "metadata": {
      "needs_background": "light"
     },
     "output_type": "display_data"
    }
   ],
   "source": [
    "sns.boxplot(x = 'Response', y= 'Income', data=data) #numerical and categorical"
   ]
  },
  {
   "cell_type": "code",
   "execution_count": null,
   "id": "9126b5e8-0aa8-4c8d-bb5d-a17b7824218e",
   "metadata": {},
   "outputs": [],
   "source": []
  },
  {
   "cell_type": "code",
   "execution_count": null,
   "id": "58524926-0c65-4ba4-bf44-ff782ff95f6c",
   "metadata": {},
   "outputs": [],
   "source": []
  },
  {
   "cell_type": "code",
   "execution_count": null,
   "id": "0e016834-5642-4fb0-ba6c-666ab382874b",
   "metadata": {},
   "outputs": [],
   "source": []
  }
 ],
 "metadata": {
  "kernelspec": {
   "display_name": "Python 3 (ipykernel)",
   "language": "python",
   "name": "python3"
  },
  "language_info": {
   "codemirror_mode": {
    "name": "ipython",
    "version": 3
   },
   "file_extension": ".py",
   "mimetype": "text/x-python",
   "name": "python",
   "nbconvert_exporter": "python",
   "pygments_lexer": "ipython3",
   "version": "3.10.1"
  }
 },
 "nbformat": 4,
 "nbformat_minor": 5
}
